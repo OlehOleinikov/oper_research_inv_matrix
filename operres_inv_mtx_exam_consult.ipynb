{
 "cells": [
  {
   "cell_type": "markdown",
   "source": [
    "$$\n",
    "\\Large{\n",
    "\\text{Пошук максимуму функції (метод оберненої матриці - приклад з консультації):}\n",
    "}\n",
    "$$"
   ],
   "metadata": {
    "collapsed": false,
    "pycharm": {
     "name": "#%% md\n"
    }
   }
  },
  {
   "cell_type": "markdown",
   "source": [
    "\n",
    "$$\n",
    "\\Large{\n",
    "F_{\\text{max}} = 5x_1 + 4x_2 + 6x_3\n",
    "}\n",
    "$$"
   ],
   "metadata": {
    "collapsed": false
   }
  },
  {
   "cell_type": "markdown",
   "source": [
    "$$\n",
    "\\Large{\n",
    "\\text{Обмеження:}\n",
    "}\n",
    "$$\n",
    "\\begin{align*}\n",
    "x_1 + x_2 + x_3 &\\leq 6 \\\\\n",
    "2x_1 + x_2 + x_3 &\\geq 9 \\\\\n",
    "3x_1 + x_2 + 2x_3 &\\geq 11 \\\\\n",
    "x_1, x_2, x_3 &\\geq 0\n",
    "\\end{align*}"
   ],
   "metadata": {
    "collapsed": false,
    "pycharm": {
     "name": "#%% md\n"
    }
   }
  },
  {
   "cell_type": "markdown",
   "source": [
    "### Зведемо до розширеної (канонічної) системи, додамо балансуючі змінні (змінні рівності):"
   ],
   "metadata": {
    "collapsed": false,
    "pycharm": {
     "name": "#%% md\n"
    }
   }
  },
  {
   "cell_type": "code",
   "execution_count": 1,
   "outputs": [
    {
     "data": {
      "text/plain": "array([[ 1,  1,  1,  0,  0],\n       [ 2,  1,  1, -1,  0],\n       [ 3,  1,  2,  0, -1]])"
     },
     "execution_count": 1,
     "metadata": {},
     "output_type": "execute_result"
    }
   ],
   "source": [
    "import numpy as np\n",
    "np.seterr(divide='ignore')\n",
    "\n",
    "\n",
    "mtx_vars_origin = [[1, 1, 1],\n",
    "                   [2, 1, 1],\n",
    "                   [3, 1, 2]]\n",
    "\n",
    "mtx_vars_balance = [[0, 0,],\n",
    "                    [-1, 0,],\n",
    "                    [0, -1]]\n",
    "\n",
    "mtx_vars_base = [[1, 0, 0],\n",
    "                 [0, 1, 0],\n",
    "                 [0, 0, 1]] # ця змінна генерується автоматично\n",
    "\n",
    "Cb = [0, -10000, -10000] # треба врахувати балансування\n",
    "\n",
    "b = np.array([6, 9, 11])\n",
    "C = np.array([5, 4, 6, 0, 0])\n",
    "\n",
    "mtx_vars_all = np.concatenate((mtx_vars_origin, mtx_vars_balance), axis=1)\n",
    "mtx_vars_all"
   ],
   "metadata": {
    "collapsed": false,
    "pycharm": {
     "name": "#%%\n"
    },
    "ExecuteTime": {
     "end_time": "2023-06-17T16:30:11.132502500Z",
     "start_time": "2023-06-17T16:30:11.119135Z"
    }
   }
  },
  {
   "cell_type": "markdown",
   "source": [
    "### Клас з логікою"
   ],
   "metadata": {
    "collapsed": false
   }
  },
  {
   "cell_type": "code",
   "execution_count": 2,
   "outputs": [],
   "source": [
    "class LpInvMtxStep:\n",
    "    def __init__(self, A: np.array, C: np.array, b: np.array, B=None, Cb=None, current_basis_indexes=None, step=None):\n",
    "        # Кількість обмежень відповідно до рівнянь у матриці А\n",
    "        self.const_count = len(A)\n",
    "\n",
    "        # Номер ітерації\n",
    "        self.step = 1 if step is None else step\n",
    "\n",
    "        # Початкова базисна матриця\n",
    "        if B is not None:\n",
    "            assert self.const_count == len(B)\n",
    "            assert len(B) == len(B[0])\n",
    "            self.B = B\n",
    "        else:\n",
    "            self.B = np.eye(self.const_count)\n",
    "\n",
    "        self.vals_amount = len(A[0]) + len(self.B[0]) # кількість змінних\n",
    "        self.vals_dict = {ind: f\"X_{ind+1}\" for ind in range(self.vals_amount)} # словник відповідності індексу - назві змінної\n",
    "        if current_basis_indexes is None:\n",
    "            self.current_basis_indexes = np.arange(len(A[0]), len(A[0]) + len(self.B[0])) # Змінні початкового базису\n",
    "        else:\n",
    "            assert len(current_basis_indexes) == self.const_count\n",
    "            self.current_basis_indexes = current_basis_indexes\n",
    "\n",
    "        str_basis_indexex = [f'X_{x+1}' for x in self.current_basis_indexes]\n",
    "        self.str_basis_indexex = ', '.join(str_basis_indexex)\n",
    "\n",
    "        # Кількість обмежень з розмірності матриці\n",
    "        self.const_count = len(A[0])\n",
    "\n",
    "        # Матриця коєфіцієнтів обмежень\n",
    "        self.A = A\n",
    "\n",
    "        # Інвертована матриця поточного базису\n",
    "        self.B_inv = np.linalg.inv(self.B)\n",
    "\n",
    "        # Значення C_b (в разі відсутності ініціюючі нулі)\n",
    "        self.Cb = Cb if Cb is not None else np.zeros(len(self.B[0]))\n",
    "\n",
    "        # Ц.ф.\n",
    "        self.C = C\n",
    "\n",
    "        # Межі обмежень\n",
    "        self.b = b\n",
    "\n",
    "        # Розрахунок алгоритму\n",
    "        self.CbB_inv = np.dot(self.Cb, self.B_inv)\n",
    "        self.BinvA = np.dot(self.B_inv, self.A)\n",
    "        self.Binv_b = np.dot(self.B_inv, self.b)\n",
    "        self.CbB_inv_b = np.dot(self.CbB_inv, self.b)\n",
    "\n",
    "        # Визначення наступного базису та статусу припинення ітерацій (відсутність нульових значень у плані)\n",
    "        self.CbBinvA_minus_C = np.dot(self.Cb, self.BinvA) - self.C\n",
    "        self.stop_iter = np.all(self.CbBinvA_minus_C >= 0)\n",
    "        if not self.stop_iter:\n",
    "            self.min_CbBinvA_minus_C, self.new_basis_index = self.find_min_value(self.CbBinvA_minus_C)\n",
    "        else:\n",
    "            self.min_CbBinvA_minus_C, self.new_basis_index = None, None\n",
    "\n",
    "        # Визначення базису на вихід\n",
    "        self.min_elem_order = np.argmin(self.CbBinvA_minus_C)\n",
    "        self.ratio = self.Binv_b / self.BinvA[:, self.min_elem_order]\n",
    "        positive_elements = self.ratio[self.ratio > 0]\n",
    "        min_positive_index = np.argmin(positive_elements)\n",
    "        min_index = np.where(self.ratio == positive_elements[min_positive_index])[0][0]\n",
    "        self.min_ratio_order = min_index\n",
    "        self.min_ratio_val = self.ratio[min_index]\n",
    "\n",
    "        # Формування набору даних для наступної ітерції:\n",
    "        if not self.stop_iter:\n",
    "            self.new_Cb = self.replace_value(self.Cb, self.min_ratio_order,self.C[self.new_basis_index])\n",
    "            self.new_B = self.replace_column(self.B, self.min_ratio_order, self.A[:, self.new_basis_index])\n",
    "            self.new_basis_index_set = self.replace_value(self.current_basis_indexes, self.min_ratio_order, self.new_basis_index)\n",
    "        else:\n",
    "            self.new_Cb, self.new_B, self.new_basis_index_set = None, None, None\n",
    "\n",
    "\n",
    "    def get_result(self) -> dict:\n",
    "        if self.stop_iter:\n",
    "            new_data = None\n",
    "        else:\n",
    "            new_data = {'A': self.A,\n",
    "                        'C': self.C,\n",
    "                        'b': self.b,\n",
    "                        'B': self.B,\n",
    "                        'Cb': self.new_Cb,\n",
    "                        'current_basis_indexes': self.new_basis_index_set,\n",
    "                        'step': self.step + 1}\n",
    "\n",
    "        return {'stop_status': self.stop_iter,\n",
    "                'result': self.CbBinvA_minus_C,\n",
    "                'iter_details': self.__str__(),\n",
    "                'next_step_data': new_data}\n",
    "\n",
    "    @staticmethod\n",
    "    def replace_value(vector, index, new_value):\n",
    "        vector_copy = np.copy(vector)\n",
    "        vector_copy[index] = new_value\n",
    "        return vector_copy\n",
    "\n",
    "    @staticmethod\n",
    "    def replace_column(matrix, column_index, vector):\n",
    "        matrix_copy = np.copy(matrix)\n",
    "        matrix_copy[:, column_index] = vector\n",
    "        return matrix_copy\n",
    "\n",
    "    @staticmethod\n",
    "    def find_min_value(vector):\n",
    "        min_value = np.min(vector)\n",
    "        min_index = np.argmin(vector)\n",
    "        return min_value, min_index\n",
    "\n",
    "    def get_next_step(self):\n",
    "        return {'A': self.A,\n",
    "                'C': self.C,\n",
    "                'b': self.b,\n",
    "                'B': self.new_B,\n",
    "                'Cb': self.new_Cb,\n",
    "                'current_basis_indexes': self.new_basis_index_set,\n",
    "                'step': self.step + 1}\n",
    "\n",
    "    def __str__(self):\n",
    "        if not self.stop_iter:\n",
    "            res_str = \"PLANE STILL CONSIST NEGATIVE VALUE(S)\\n------------------------------\"\n",
    "        else:\n",
    "            x_res_str = \"\"\n",
    "            for name, value_x in zip(self.str_basis_indexex.split(', '), self.Binv_b):\n",
    "                x_res_str += f\"{name}: {value_x}\\n\"\n",
    "            res_str = f\"------------------------------\\n\" \\\n",
    "                      f\"ITERATING STOPPED: \\n\" \\\n",
    "                      f\"BEST FUNC: {self.CbB_inv_b} \\n\" \\\n",
    "                      f\"VARS:      \\n{x_res_str}\\n\" \\\n",
    "                      f\"------------------------------\"\n",
    "\n",
    "        return f\"Iter #:\\n{self.step}\\n\\n\" \\\n",
    "               f\"Values amount:\\n{self.vals_amount}\\n\\n\" \\\n",
    "               f\"Values dict:\\n{self.vals_dict}\\n\\n\" \\\n",
    "               f\"Matrix A:\\n{self.A}\\n\\n\" \\\n",
    "               f\"C:\\n{self.C}\\n\\n\" \\\n",
    "               f\"b:\\n{self.b}\\n\\n\" \\\n",
    "               f\"B:\\n{self.B}\\n\\n\" \\\n",
    "               f\"Basis index:\\n{self.current_basis_indexes}\\n\\n\" \\\n",
    "               f\"Basis varnames:\\n{self.str_basis_indexex}\\n\\n\" \\\n",
    "               f\"B_inv:\\n{self.B_inv}\\n\\n\" \\\n",
    "               f\"CbB_inv:\\n{self.CbB_inv}\\n\\n\" \\\n",
    "               f\"BinvA:\\n{self.BinvA}\\n\\n\" \\\n",
    "               f\"Binv_b:\\n{self.Binv_b}\\n\\n\" \\\n",
    "               f\"CbB_inv_b:\\n{self.CbB_inv_b}\\n\\n\" \\\n",
    "               f\"CbBinvA_minus_C:\\n{self.CbBinvA_minus_C}\\n\\n\" \\\n",
    "               f\"min_elem_order:\\nX{self.min_elem_order+1} = {self.CbBinvA_minus_C[self.min_elem_order]}\\n\\n\" \\\n",
    "               f\"ratio:\\n{self.ratio}\\n\\n\" \\\n",
    "               f\"min ratio value:\\n{self.min_ratio_val}\\n\\n\" \\\n",
    "               f\"leave:\\n{self.vals_dict[self.current_basis_indexes[self.min_ratio_order]]}\\n\\n\"\\\n",
    "               f\"New Cb:\\n{self.new_Cb}\\n\\n\" \\\n",
    "               f\"New B:\\n{self.new_B}\\n\\n\" \\\n",
    "               f\"Result:\\n{res_str}\\n\\n\""
   ],
   "metadata": {
    "collapsed": false,
    "pycharm": {
     "name": "#%%\n"
    },
    "ExecuteTime": {
     "end_time": "2023-06-17T16:30:11.152455400Z",
     "start_time": "2023-06-17T16:30:11.141510700Z"
    }
   }
  },
  {
   "cell_type": "markdown",
   "source": [
    "### Ітерації обчислення, перевірка оптимальності"
   ],
   "metadata": {
    "collapsed": false
   }
  },
  {
   "cell_type": "code",
   "execution_count": 3,
   "outputs": [
    {
     "name": "stdout",
     "output_type": "stream",
     "text": [
      "Iter #:\n",
      "1\n",
      "\n",
      "Values amount:\n",
      "8\n",
      "\n",
      "Values dict:\n",
      "{0: 'X_1', 1: 'X_2', 2: 'X_3', 3: 'X_4', 4: 'X_5', 5: 'X_6', 6: 'X_7', 7: 'X_8'}\n",
      "\n",
      "Matrix A:\n",
      "[[ 1  1  1  0  0]\n",
      " [ 2  1  1 -1  0]\n",
      " [ 3  1  2  0 -1]]\n",
      "\n",
      "C:\n",
      "[5 4 6 0 0]\n",
      "\n",
      "b:\n",
      "[ 6  9 11]\n",
      "\n",
      "B:\n",
      "[[1. 0. 0.]\n",
      " [0. 1. 0.]\n",
      " [0. 0. 1.]]\n",
      "\n",
      "Basis index:\n",
      "[5 6 7]\n",
      "\n",
      "Basis varnames:\n",
      "X_6, X_7, X_8\n",
      "\n",
      "B_inv:\n",
      "[[1. 0. 0.]\n",
      " [0. 1. 0.]\n",
      " [0. 0. 1.]]\n",
      "\n",
      "CbB_inv:\n",
      "[     0. -10000. -10000.]\n",
      "\n",
      "BinvA:\n",
      "[[ 1.  1.  1.  0.  0.]\n",
      " [ 2.  1.  1. -1.  0.]\n",
      " [ 3.  1.  2.  0. -1.]]\n",
      "\n",
      "Binv_b:\n",
      "[ 6.  9. 11.]\n",
      "\n",
      "CbB_inv_b:\n",
      "-200000.0\n",
      "\n",
      "CbBinvA_minus_C:\n",
      "[-50005. -20004. -30006.  10000.  10000.]\n",
      "\n",
      "min_elem_order:\n",
      "X1 = -50005.0\n",
      "\n",
      "ratio:\n",
      "[6.         4.5        3.66666667]\n",
      "\n",
      "min ratio value:\n",
      "3.6666666666666665\n",
      "\n",
      "leave:\n",
      "X_8\n",
      "\n",
      "New Cb:\n",
      "[     0 -10000      5]\n",
      "\n",
      "New B:\n",
      "[[1. 0. 1.]\n",
      " [0. 1. 2.]\n",
      " [0. 0. 3.]]\n",
      "\n",
      "Result:\n",
      "PLANE STILL CONSIST NEGATIVE VALUE(S)\n",
      "------------------------------\n",
      "\n",
      "\n"
     ]
    }
   ],
   "source": [
    "step1 = LpInvMtxStep(A=mtx_vars_all,\n",
    "                     C=C,\n",
    "                     b=b,\n",
    "                     Cb = Cb)\n",
    "print(step1)"
   ],
   "metadata": {
    "collapsed": false,
    "pycharm": {
     "name": "#%%\n"
    },
    "ExecuteTime": {
     "end_time": "2023-06-17T16:30:11.172465400Z",
     "start_time": "2023-06-17T16:30:11.148452500Z"
    }
   }
  },
  {
   "cell_type": "code",
   "execution_count": 4,
   "outputs": [
    {
     "data": {
      "text/plain": "{'A': array([[ 1,  1,  1,  0,  0],\n        [ 2,  1,  1, -1,  0],\n        [ 3,  1,  2,  0, -1]]),\n 'C': array([5, 4, 6, 0, 0]),\n 'b': array([ 6,  9, 11]),\n 'B': array([[1., 0., 1.],\n        [0., 1., 2.],\n        [0., 0., 3.]]),\n 'Cb': array([     0, -10000,      5]),\n 'current_basis_indexes': array([5, 6, 0]),\n 'step': 2}"
     },
     "execution_count": 4,
     "metadata": {},
     "output_type": "execute_result"
    }
   ],
   "source": [
    "step1.get_next_step()"
   ],
   "metadata": {
    "collapsed": false,
    "ExecuteTime": {
     "end_time": "2023-06-17T16:30:11.210276700Z",
     "start_time": "2023-06-17T16:30:11.165468100Z"
    }
   }
  },
  {
   "cell_type": "code",
   "execution_count": 5,
   "outputs": [
    {
     "name": "stdout",
     "output_type": "stream",
     "text": [
      "Iter #:\n",
      "2\n",
      "\n",
      "Values amount:\n",
      "8\n",
      "\n",
      "Values dict:\n",
      "{0: 'X_1', 1: 'X_2', 2: 'X_3', 3: 'X_4', 4: 'X_5', 5: 'X_6', 6: 'X_7', 7: 'X_8'}\n",
      "\n",
      "Matrix A:\n",
      "[[ 1  1  1  0  0]\n",
      " [ 2  1  1 -1  0]\n",
      " [ 3  1  2  0 -1]]\n",
      "\n",
      "C:\n",
      "[5 4 6 0 0]\n",
      "\n",
      "b:\n",
      "[ 6  9 11]\n",
      "\n",
      "B:\n",
      "[[1. 0. 1.]\n",
      " [0. 1. 2.]\n",
      " [0. 0. 3.]]\n",
      "\n",
      "Basis index:\n",
      "[5 6 0]\n",
      "\n",
      "Basis varnames:\n",
      "X_6, X_7, X_1\n",
      "\n",
      "B_inv:\n",
      "[[ 1.          0.         -0.33333333]\n",
      " [ 0.          1.         -0.66666667]\n",
      " [ 0.          0.          0.33333333]]\n",
      "\n",
      "CbB_inv:\n",
      "[     0.         -10000.           6668.33333333]\n",
      "\n",
      "BinvA:\n",
      "[[ 5.55111512e-17  6.66666667e-01  3.33333333e-01  0.00000000e+00\n",
      "   3.33333333e-01]\n",
      " [ 1.11022302e-16  3.33333333e-01 -3.33333333e-01 -1.00000000e+00\n",
      "   6.66666667e-01]\n",
      " [ 1.00000000e+00  3.33333333e-01  6.66666667e-01  0.00000000e+00\n",
      "  -3.33333333e-01]]\n",
      "\n",
      "Binv_b:\n",
      "[2.33333333 1.66666667 3.66666667]\n",
      "\n",
      "CbB_inv_b:\n",
      "-16648.333333333343\n",
      "\n",
      "CbBinvA_minus_C:\n",
      "[-1.11022302e-12 -3.33566667e+03  3.33066667e+03  1.00000000e+04\n",
      " -6.66833333e+03]\n",
      "\n",
      "min_elem_order:\n",
      "X5 = -6668.333333333333\n",
      "\n",
      "ratio:\n",
      "[  7.    2.5 -11. ]\n",
      "\n",
      "min ratio value:\n",
      "2.5000000000000004\n",
      "\n",
      "leave:\n",
      "X_7\n",
      "\n",
      "New Cb:\n",
      "[0 0 5]\n",
      "\n",
      "New B:\n",
      "[[ 1.  0.  1.]\n",
      " [ 0.  0.  2.]\n",
      " [ 0. -1.  3.]]\n",
      "\n",
      "Result:\n",
      "PLANE STILL CONSIST NEGATIVE VALUE(S)\n",
      "------------------------------\n",
      "\n",
      "\n"
     ]
    }
   ],
   "source": [
    "step2 = LpInvMtxStep(**step1.get_next_step())\n",
    "print(step2)"
   ],
   "metadata": {
    "collapsed": false,
    "ExecuteTime": {
     "end_time": "2023-06-17T16:30:11.216283300Z",
     "start_time": "2023-06-17T16:30:11.179636400Z"
    }
   }
  },
  {
   "cell_type": "code",
   "execution_count": 6,
   "outputs": [
    {
     "data": {
      "text/plain": "{'A': array([[ 1,  1,  1,  0,  0],\n        [ 2,  1,  1, -1,  0],\n        [ 3,  1,  2,  0, -1]]),\n 'C': array([5, 4, 6, 0, 0]),\n 'b': array([ 6,  9, 11]),\n 'B': array([[ 1.,  0.,  1.],\n        [ 0.,  0.,  2.],\n        [ 0., -1.,  3.]]),\n 'Cb': array([0, 0, 5]),\n 'current_basis_indexes': array([5, 4, 0]),\n 'step': 3}"
     },
     "execution_count": 6,
     "metadata": {},
     "output_type": "execute_result"
    }
   ],
   "source": [
    "step2.get_next_step()"
   ],
   "metadata": {
    "collapsed": false,
    "ExecuteTime": {
     "end_time": "2023-06-17T16:30:11.216283300Z",
     "start_time": "2023-06-17T16:30:11.197652500Z"
    }
   }
  },
  {
   "cell_type": "code",
   "execution_count": 7,
   "outputs": [
    {
     "name": "stdout",
     "output_type": "stream",
     "text": [
      "Iter #:\n",
      "3\n",
      "\n",
      "Values amount:\n",
      "8\n",
      "\n",
      "Values dict:\n",
      "{0: 'X_1', 1: 'X_2', 2: 'X_3', 3: 'X_4', 4: 'X_5', 5: 'X_6', 6: 'X_7', 7: 'X_8'}\n",
      "\n",
      "Matrix A:\n",
      "[[ 1  1  1  0  0]\n",
      " [ 2  1  1 -1  0]\n",
      " [ 3  1  2  0 -1]]\n",
      "\n",
      "C:\n",
      "[5 4 6 0 0]\n",
      "\n",
      "b:\n",
      "[ 6  9 11]\n",
      "\n",
      "B:\n",
      "[[ 1.  0.  1.]\n",
      " [ 0.  0.  2.]\n",
      " [ 0. -1.  3.]]\n",
      "\n",
      "Basis index:\n",
      "[5 4 0]\n",
      "\n",
      "Basis varnames:\n",
      "X_6, X_5, X_1\n",
      "\n",
      "B_inv:\n",
      "[[ 1.  -0.5  0. ]\n",
      " [-0.   1.5 -1. ]\n",
      " [ 0.   0.5  0. ]]\n",
      "\n",
      "CbB_inv:\n",
      "[0.  2.5 0. ]\n",
      "\n",
      "BinvA:\n",
      "[[ 0.   0.5  0.5  0.5  0. ]\n",
      " [ 0.   0.5 -0.5 -1.5  1. ]\n",
      " [ 1.   0.5  0.5 -0.5  0. ]]\n",
      "\n",
      "Binv_b:\n",
      "[1.5 2.5 4.5]\n",
      "\n",
      "CbB_inv_b:\n",
      "22.5\n",
      "\n",
      "CbBinvA_minus_C:\n",
      "[ 0.  -1.5 -3.5 -2.5  0. ]\n",
      "\n",
      "min_elem_order:\n",
      "X3 = -3.5\n",
      "\n",
      "ratio:\n",
      "[ 3. -5.  9.]\n",
      "\n",
      "min ratio value:\n",
      "3.0\n",
      "\n",
      "leave:\n",
      "X_6\n",
      "\n",
      "New Cb:\n",
      "[6 0 5]\n",
      "\n",
      "New B:\n",
      "[[ 1.  0.  1.]\n",
      " [ 1.  0.  2.]\n",
      " [ 2. -1.  3.]]\n",
      "\n",
      "Result:\n",
      "PLANE STILL CONSIST NEGATIVE VALUE(S)\n",
      "------------------------------\n",
      "\n",
      "\n"
     ]
    }
   ],
   "source": [
    "step3 = LpInvMtxStep(**step2.get_next_step())\n",
    "print(step3)"
   ],
   "metadata": {
    "collapsed": false,
    "pycharm": {
     "name": "#%%\n"
    },
    "ExecuteTime": {
     "end_time": "2023-06-17T16:30:11.227288300Z",
     "start_time": "2023-06-17T16:30:11.214281600Z"
    }
   }
  },
  {
   "cell_type": "code",
   "execution_count": 8,
   "outputs": [
    {
     "data": {
      "text/plain": "{'A': array([[ 1,  1,  1,  0,  0],\n        [ 2,  1,  1, -1,  0],\n        [ 3,  1,  2,  0, -1]]),\n 'C': array([5, 4, 6, 0, 0]),\n 'b': array([ 6,  9, 11]),\n 'B': array([[ 1.,  0.,  1.],\n        [ 1.,  0.,  2.],\n        [ 2., -1.,  3.]]),\n 'Cb': array([6, 0, 5]),\n 'current_basis_indexes': array([2, 4, 0]),\n 'step': 4}"
     },
     "execution_count": 8,
     "metadata": {},
     "output_type": "execute_result"
    }
   ],
   "source": [
    "step3.get_next_step()"
   ],
   "metadata": {
    "collapsed": false,
    "ExecuteTime": {
     "end_time": "2023-06-17T16:30:11.272788100Z",
     "start_time": "2023-06-17T16:30:11.227288300Z"
    }
   }
  },
  {
   "cell_type": "markdown",
   "source": [
    "### Остання ітерація"
   ],
   "metadata": {
    "collapsed": false
   }
  },
  {
   "cell_type": "code",
   "execution_count": 9,
   "outputs": [
    {
     "name": "stdout",
     "output_type": "stream",
     "text": [
      "Iter #:\n",
      "4\n",
      "\n",
      "Values amount:\n",
      "8\n",
      "\n",
      "Values dict:\n",
      "{0: 'X_1', 1: 'X_2', 2: 'X_3', 3: 'X_4', 4: 'X_5', 5: 'X_6', 6: 'X_7', 7: 'X_8'}\n",
      "\n",
      "Matrix A:\n",
      "[[ 1  1  1  0  0]\n",
      " [ 2  1  1 -1  0]\n",
      " [ 3  1  2  0 -1]]\n",
      "\n",
      "C:\n",
      "[5 4 6 0 0]\n",
      "\n",
      "b:\n",
      "[ 6  9 11]\n",
      "\n",
      "B:\n",
      "[[ 1.  0.  1.]\n",
      " [ 1.  0.  2.]\n",
      " [ 2. -1.  3.]]\n",
      "\n",
      "Basis index:\n",
      "[2 4 0]\n",
      "\n",
      "Basis varnames:\n",
      "X_3, X_5, X_1\n",
      "\n",
      "B_inv:\n",
      "[[ 2. -1.  0.]\n",
      " [ 1.  1. -1.]\n",
      " [-1.  1. -0.]]\n",
      "\n",
      "CbB_inv:\n",
      "[ 7. -1.  0.]\n",
      "\n",
      "BinvA:\n",
      "[[ 0.  1.  1.  1.  0.]\n",
      " [ 0.  1.  0. -1.  1.]\n",
      " [ 1.  0.  0. -1.  0.]]\n",
      "\n",
      "Binv_b:\n",
      "[3. 4. 3.]\n",
      "\n",
      "CbB_inv_b:\n",
      "33.0\n",
      "\n",
      "CbBinvA_minus_C:\n",
      "[0. 2. 0. 1. 0.]\n",
      "\n",
      "min_elem_order:\n",
      "X1 = 0.0\n",
      "\n",
      "ratio:\n",
      "[inf inf  3.]\n",
      "\n",
      "min ratio value:\n",
      "3.0\n",
      "\n",
      "leave:\n",
      "X_1\n",
      "\n",
      "New Cb:\n",
      "None\n",
      "\n",
      "New B:\n",
      "None\n",
      "\n",
      "Result:\n",
      "------------------------------\n",
      "ITERATING STOPPED: \n",
      "BEST FUNC: 33.0 \n",
      "VARS:      \n",
      "X_3: 3.0\n",
      "X_5: 4.0\n",
      "X_1: 3.0\n",
      "\n",
      "------------------------------\n",
      "\n",
      "\n"
     ]
    }
   ],
   "source": [
    "step4 = LpInvMtxStep(**step3.get_next_step())\n",
    "print(step4)"
   ],
   "metadata": {
    "collapsed": false,
    "ExecuteTime": {
     "end_time": "2023-06-17T16:30:11.280796900Z",
     "start_time": "2023-06-17T16:30:11.243375200Z"
    }
   }
  },
  {
   "cell_type": "markdown",
   "source": [
    "### Виконання у циклі (до досягнення оптимальності)"
   ],
   "metadata": {
    "collapsed": false
   }
  },
  {
   "cell_type": "code",
   "execution_count": 10,
   "outputs": [
    {
     "name": "stdout",
     "output_type": "stream",
     "text": [
      "Iter #:\n",
      "4\n",
      "\n",
      "Values amount:\n",
      "8\n",
      "\n",
      "Values dict:\n",
      "{0: 'X_1', 1: 'X_2', 2: 'X_3', 3: 'X_4', 4: 'X_5', 5: 'X_6', 6: 'X_7', 7: 'X_8'}\n",
      "\n",
      "Matrix A:\n",
      "[[ 1  1  1  0  0]\n",
      " [ 2  1  1 -1  0]\n",
      " [ 3  1  2  0 -1]]\n",
      "\n",
      "C:\n",
      "[5 4 6 0 0]\n",
      "\n",
      "b:\n",
      "[ 6  9 11]\n",
      "\n",
      "B:\n",
      "[[ 1.  0.  1.]\n",
      " [ 1.  0.  2.]\n",
      " [ 2. -1.  3.]]\n",
      "\n",
      "Basis index:\n",
      "[2 4 0]\n",
      "\n",
      "Basis varnames:\n",
      "X_3, X_5, X_1\n",
      "\n",
      "B_inv:\n",
      "[[ 2. -1.  0.]\n",
      " [ 1.  1. -1.]\n",
      " [-1.  1. -0.]]\n",
      "\n",
      "CbB_inv:\n",
      "[ 7. -1.  0.]\n",
      "\n",
      "BinvA:\n",
      "[[ 0.  1.  1.  1.  0.]\n",
      " [ 0.  1.  0. -1.  1.]\n",
      " [ 1.  0.  0. -1.  0.]]\n",
      "\n",
      "Binv_b:\n",
      "[3. 4. 3.]\n",
      "\n",
      "CbB_inv_b:\n",
      "33.0\n",
      "\n",
      "CbBinvA_minus_C:\n",
      "[0. 2. 0. 1. 0.]\n",
      "\n",
      "min_elem_order:\n",
      "X1 = 0.0\n",
      "\n",
      "ratio:\n",
      "[inf inf  3.]\n",
      "\n",
      "min ratio value:\n",
      "3.0\n",
      "\n",
      "leave:\n",
      "X_1\n",
      "\n",
      "New Cb:\n",
      "None\n",
      "\n",
      "New B:\n",
      "None\n",
      "\n",
      "Result:\n",
      "------------------------------\n",
      "ITERATING STOPPED: \n",
      "BEST FUNC: 33.0 \n",
      "VARS:      \n",
      "X_3: 3.0\n",
      "X_5: 4.0\n",
      "X_1: 3.0\n",
      "\n",
      "------------------------------\n",
      "\n",
      "\n"
     ]
    }
   ],
   "source": [
    "# Клітинка, що рахувати не покроково:\n",
    "res = False\n",
    "\n",
    "initial_step = LpInvMtxStep(A=mtx_vars_all,\n",
    "                            C=C,\n",
    "                            b=b,\n",
    "                            Cb = Cb)\n",
    "\n",
    "next_step_data = initial_step.get_next_step()\n",
    "\n",
    "while not res:\n",
    "    new_step = LpInvMtxStep(**next_step_data)\n",
    "    res = new_step.get_result()['stop_status']\n",
    "    next_step_data = new_step.get_next_step()\n",
    "\n",
    "print(new_step) # інформація про ітерацію на який досягнуто оптимального плану\n"
   ],
   "metadata": {
    "collapsed": false,
    "ExecuteTime": {
     "end_time": "2023-06-17T16:30:11.280796900Z",
     "start_time": "2023-06-17T16:30:11.260390500Z"
    }
   }
  },
  {
   "cell_type": "markdown",
   "source": [
    "### Перевірка за допомогою моделювання PuLP"
   ],
   "metadata": {
    "collapsed": false
   }
  },
  {
   "cell_type": "code",
   "execution_count": 11,
   "outputs": [
    {
     "name": "stdout",
     "output_type": "stream",
     "text": [
      "Status: Optimal\n",
      "Optimal Solution:\n",
      "x1 = 3.0\n",
      "x2 = 0.0\n",
      "x3 = 3.0\n",
      "F_max = 33.0\n"
     ]
    },
    {
     "name": "stderr",
     "output_type": "stream",
     "text": [
      "C:\\Users\\matematik\\AppData\\Local\\Programs\\Python\\Python310\\lib\\site-packages\\pulp\\pulp.py:1352: UserWarning: Spaces are not permitted in the name. Converted to '_'\n",
      "  warnings.warn(\"Spaces are not permitted in the name. Converted to '_'\")\n"
     ]
    }
   ],
   "source": [
    "from pulp import *\n",
    "import numpy as np\n",
    "\n",
    "# Задача лінійного програмування з мінімізації ц.ф.\n",
    "problem = LpProblem(\"Maximization Problem\", LpMaximize)\n",
    "\n",
    "# Змінні рішення x1 і x2\n",
    "x1 = LpVariable(\"x1\", lowBound=0)\n",
    "x2 = LpVariable(\"x2\", lowBound=0)\n",
    "x3 = LpVariable(\"x3\", lowBound=0)\n",
    "\n",
    "# Ц.ф.\n",
    "objective_function = 5 * x1 + 4 * x2 + 6 * x3\n",
    "problem += objective_function\n",
    "\n",
    "# Обмеження\n",
    "problem +=  x1 + x2 + x3 <= 6\n",
    "problem += 2* x1 + x2 + x3 >= 9\n",
    "problem += 3 * x1 + x2 + 2 * x3 >= 11\n",
    "\n",
    "\n",
    "# Розв'язуємо задачу лінійного програмування\n",
    "problem.solve()\n",
    "\n",
    "# Виводимо статус розв'язку\n",
    "print(\"Status:\", LpStatus[problem.status])\n",
    "\n",
    "# Виводимо оптимальне значення змінних і значення цільової функції\n",
    "print(\"Optimal Solution:\")\n",
    "print(\"x1 =\", value(x1))\n",
    "print(\"x2 =\", value(x2))\n",
    "print(\"x3 =\", value(x3))\n",
    "print(\"F_max =\", value(problem.objective))"
   ],
   "metadata": {
    "collapsed": false,
    "ExecuteTime": {
     "end_time": "2023-06-17T16:30:11.353323900Z",
     "start_time": "2023-06-17T16:30:11.273790600Z"
    }
   }
  }
 ],
 "metadata": {
  "kernelspec": {
   "display_name": "Python 3",
   "language": "python",
   "name": "python3"
  },
  "language_info": {
   "codemirror_mode": {
    "name": "ipython",
    "version": 2
   },
   "file_extension": ".py",
   "mimetype": "text/x-python",
   "name": "python",
   "nbconvert_exporter": "python",
   "pygments_lexer": "ipython2",
   "version": "2.7.6"
  }
 },
 "nbformat": 4,
 "nbformat_minor": 0
}
